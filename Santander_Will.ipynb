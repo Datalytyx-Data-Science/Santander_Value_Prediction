{
 "cells": [
  {
   "cell_type": "markdown",
   "metadata": {},
   "source": [
    "# Santander Value Prediction Challenge\n",
    "\n",
    "#### Eden Trainor"
   ]
  },
  {
   "cell_type": "markdown",
   "metadata": {},
   "source": [
    "## EDA and Novelty and Outlier Detection"
   ]
  },
  {
   "cell_type": "markdown",
   "metadata": {},
   "source": [
    "**Outlier Detection:** The training data contains outliers which are defined as observations that are far from the others. Outlier detection estimators thus try to fit the regions where the training data is the most concentrated, ignoring the deviant observations.\n",
    "\n",
    "**Novelty Detection:** The training data is not polluted by outliers and we are interested in detecting whether a new observation is an outlier. In this context an outlier is also called a novelty."
   ]
  },
  {
   "cell_type": "markdown",
   "metadata": {},
   "source": [
    "Data is Multivariant"
   ]
  },
  {
   "cell_type": "code",
   "execution_count": 97,
   "metadata": {},
   "outputs": [],
   "source": [
    "# %load_ext pycodestyle_magic\n",
    "\n",
    "import pandas as pd\n",
    "import numpy as np\n",
    "import seaborn as sns\n",
    "from sklearn.base import BaseEstimator, TransformerMixin\n",
    "from numpy import array_equal\n",
    "import matplotlib.pyplot as plt\n",
    "import dlxtools as dlxt\n",
    "\n",
    "\n",
    "# Set test colurs to white for dark theme notebook\n",
    "params = {\n",
    "    \"ytick.color\" : \"w\",\n",
    "    \"xtick.color\" : \"w\",\n",
    "          \"axes.labelcolor\" : \"w\",\n",
    "          \"axes.edgecolor\" : \"w\",\n",
    "         }\n",
    "\n",
    "plt.rcParams.update(params)"
   ]
  },
  {
   "cell_type": "code",
   "execution_count": 32,
   "metadata": {},
   "outputs": [],
   "source": [
    "%%pycodestyle\n",
    "USER_NAME = 'WilliamHoltam'  # Configure this with your username\n",
    "\n",
    "DATA_REPO = ('C:/Users/' +\n",
    "             USER_NAME +\n",
    "             '/Datalytyx/Delivery - Documents/Data Science/Data/')"
   ]
  },
  {
   "cell_type": "code",
   "execution_count": 34,
   "metadata": {},
   "outputs": [],
   "source": [
    "TRAIN_FOLDER = 'Santander_Value_Prediction/train.csv'\n",
    "TEST_FOLDER = 'Santander_Value_Prediction/test.csv'\n",
    "\n",
    "df_train = pd.read_csv(DATA_REPO + TRAIN_FOLDER)\n",
    "df_test = pd.read_csv(DATA_REPO + TEST_FOLDER)"
   ]
  },
  {
   "cell_type": "code",
   "execution_count": 35,
   "metadata": {},
   "outputs": [
    {
     "name": "stdout",
     "output_type": "stream",
     "text": [
      "<class 'pandas.core.frame.DataFrame'>\n",
      "RangeIndex: 4459 entries, 0 to 4458\n",
      "Columns: 4993 entries, ID to 9fc776466\n",
      "dtypes: float64(1845), int64(3147), object(1)\n",
      "memory usage: 169.9+ MB\n",
      "None\n"
     ]
    }
   ],
   "source": [
    "print(df_train.info())"
   ]
  },
  {
   "cell_type": "code",
   "execution_count": 36,
   "metadata": {},
   "outputs": [
    {
     "name": "stdout",
     "output_type": "stream",
     "text": [
      "<class 'pandas.core.frame.DataFrame'>\n",
      "RangeIndex: 49342 entries, 0 to 49341\n",
      "Columns: 4992 entries, ID to 9fc776466\n",
      "dtypes: float64(4991), object(1)\n",
      "memory usage: 1.8+ GB\n",
      "None\n"
     ]
    }
   ],
   "source": [
    "print(df_test.info())"
   ]
  },
  {
   "cell_type": "code",
   "execution_count": 66,
   "metadata": {},
   "outputs": [
    {
     "name": "stdout",
     "output_type": "stream",
     "text": [
      "Train: Rows - 4459 Columns - 4993\n",
      "Test: Rows - 49342 Columns - 4992\n",
      "------------------------------------------------------------\n",
      "Train: Type of columns\n",
      "------------------------------------------------------------\n",
      "int64      3147\n",
      "float64    1845\n",
      "object        1\n",
      "dtype: int64\n",
      "------------------------------------------------------------\n",
      "Test: Type of columns\n",
      "------------------------------------------------------------\n",
      "int64      3147\n",
      "float64    1845\n",
      "object        1\n",
      "dtype: int64\n",
      "------------------------------------------------------------\n",
      "Train: Nº of columns with missing values\n",
      "------------------------------------------------------------\n",
      "0\n",
      "------------------------------------------------------------\n",
      "Test: Nº of columns with missing values\n",
      "------------------------------------------------------------\n",
      "0\n",
      "------------------------------------------------------------\n",
      "Train: Nº of columns with all rows zero: \n",
      "------------------------------------------------------------\n",
      "Sum of Row    256\n",
      "dtype: int64\n",
      "------------------------------------------------------------\n",
      "Test: Nº of columns with all rows zero: \n",
      "------------------------------------------------------------\n",
      "Sum of Row    256\n",
      "dtype: int64\n",
      "------------------------------------------------------------\n"
     ]
    }
   ],
   "source": [
    "class DFInfo:\n",
    "\n",
    "    def __init__(self, train, test):\n",
    "        self.train = train\n",
    "        self.test = test\n",
    "        return\n",
    "\n",
    "    def info(self):\n",
    "        # Nº of rows and colums\n",
    "        print(\n",
    "            'Train: Rows - ' +\n",
    "            str(len(self.train)) +\n",
    "            ' Columns - ' +\n",
    "            str(len(self.train.columns))\n",
    "        )\n",
    "\n",
    "        print(\n",
    "            'Test: Rows - ' +\n",
    "            str(len(self.test)) +\n",
    "            ' Columns - ' +\n",
    "            str(len(self.test.columns))\n",
    "        )\n",
    "\n",
    "        # Type of columns\n",
    "        train_col_types = self.train.dtypes\n",
    "        test_col_types = self.train.dtypes\n",
    "        print('-'*60)\n",
    "        print('Train: Type of columns')\n",
    "        print('-'*60)\n",
    "        print(train_col_types.groupby(train_col_types).count())\n",
    "        print('-'*60)\n",
    "        print('Test: Type of columns')\n",
    "        print('-'*60)\n",
    "        print(test_col_types.groupby(test_col_types).count())\n",
    "\n",
    "        # Missing values?\n",
    "        print('-'*60)\n",
    "        list = []\n",
    "        counts = []\n",
    "        \n",
    "        for i in self.train.columns:\n",
    "            list.append(i)\n",
    "            counts.append(sum(self.train[i].isnull()))\n",
    "            \n",
    "        print('Train: Nº of columns with missing values')\n",
    "        print('-'*60)\n",
    "        print(sum(counts))\n",
    "        print('-'*60)\n",
    "        list = []\n",
    "        counts = []\n",
    "        \n",
    "        for i in self.test.columns:\n",
    "            list.append(i)\n",
    "            counts.append(sum(self.test[i].isnull()))\n",
    "            \n",
    "        print('Test: Nº of columns with missing values')\n",
    "        print('-'*60)\n",
    "        print(sum(counts))\n",
    "\n",
    "        # Zero Rows\n",
    "        print('-'*60)\n",
    "\n",
    "        columns_train_sum = (\n",
    "            pd.DataFrame(\n",
    "                self.train.sum(),\n",
    "                columns=['Sum of Row']\n",
    "            )\n",
    "        )\n",
    "\n",
    "        print('Train: Nº of columns with all rows zero: ')\n",
    "        print('-'*60)\n",
    "        print(str(columns_train_sum[columns_train_sum == 0].count()))\n",
    "        print('-'*60)\n",
    "\n",
    "        columns_test_sum = (\n",
    "            pd.DataFrame(\n",
    "                self.test.sum(),\n",
    "                columns=['Sum of Row']\n",
    "            )\n",
    "        )\n",
    "\n",
    "        print('Test: Nº of columns with all rows zero: ')\n",
    "        print('-'*60)\n",
    "        print(str(columns_test_sum[columns_train_sum == 0].count()))\n",
    "        print('-'*60)\n",
    "        \n",
    "x = DFInfo(train = df_train, test = df_test).info()\n",
    "x"
   ]
  },
  {
   "cell_type": "code",
   "execution_count": 59,
   "metadata": {},
   "outputs": [],
   "source": [
    "# Is any ID on the test dataset?\n",
    "for i in df_train.ID.values:\n",
    "    c = 0\n",
    "    if i in df_test.ID.values:\n",
    "        c = c + 1\n",
    "        \n",
    "print('Nº of ID''s on the test dataset: ' + str(c))"
   ]
  },
  {
   "cell_type": "code",
   "execution_count": null,
   "metadata": {},
   "outputs": [],
   "source": [
    "# Check if there is any visible outlier on the target?\n",
    "\n",
    "plt.plot(df_train.ID, df_train.sort_values(by=['target']).target)\n",
    "plt.xlabel('ID')\n",
    "plt.ylabel('Target')\n",
    "plt.title('ID vs Target')\n",
    "plt.show()"
   ]
  },
  {
   "cell_type": "code",
   "execution_count": null,
   "metadata": {},
   "outputs": [],
   "source": [
    "plt.figure(figsize=(10,7))\n",
    "sns.distplot(df_train[\"target\"],kde=True)\n",
    "plt.show()"
   ]
  },
  {
   "cell_type": "code",
   "execution_count": 154,
   "metadata": {},
   "outputs": [
    {
     "name": "stderr",
     "output_type": "stream",
     "text": [
      "C:\\Users\\WilliamHoltam\\Anaconda3\\lib\\site-packages\\scipy\\stats\\stats.py:1713: FutureWarning: Using a non-tuple sequence for multidimensional indexing is deprecated; use `arr[tuple(seq)]` instead of `arr[seq]`. In the future this will be interpreted as an array index, `arr[np.array(seq)]`, which will result either in an error or a different result.\n",
      "  return np.add.reduce(sorted[indexer] * weights, axis=axis) / sumval\n"
     ]
    },
    {
     "data": {
      "image/png": "[encoded data removed]",
      "text/plain": [
       "<Figure size 720x504 with 1 Axes>"
      ]
     },
     "metadata": {
      "needs_background": "dark"
     },
     "output_type": "display_data"
    }
   ],
   "source": [
    "df_train['target_log'] = np.log(df_train.target)\n",
    "plt.figure(figsize=(10,7))\n",
    "sns.distplot(df_train['target_log'],kde=True)\n",
    "plt.title(\"Train set\")\n",
    "plt.show()"
   ]
  },
  {
   "cell_type": "code",
   "execution_count": 70,
   "metadata": {},
   "outputs": [
    {
     "name": "stderr",
     "output_type": "stream",
     "text": [
      "C:\\Users\\WilliamHoltam\\Anaconda3\\lib\\site-packages\\scipy\\stats\\stats.py:1713: FutureWarning: Using a non-tuple sequence for multidimensional indexing is deprecated; use `arr[tuple(seq)]` instead of `arr[seq]`. In the future this will be interpreted as an array index, `arr[np.array(seq)]`, which will result either in an error or a different result.\n",
      "  return np.add.reduce(sorted[indexer] * weights, axis=axis) / sumval\n"
     ]
    },
    {
     "data": {
      "image/png": "[encoded data removed]",
      "text/plain": [
       "<Figure size 720x504 with 1 Axes>"
      ]
     },
     "metadata": {
      "needs_background": "dark"
     },
     "output_type": "display_data"
    }
   ],
   "source": [
    "df_train['target_log'] = np.log(df_train.target)\n",
    "plt.figure(figsize=(10,7))\n",
    "sns.distplot(df_train['target_log'],kde=True)\n",
    "plt.title(\"Train set\")\n",
    "plt.show()"
   ]
  },
  {
   "cell_type": "code",
   "execution_count": 86,
   "metadata": {},
   "outputs": [
    {
     "name": "stderr",
     "output_type": "stream",
     "text": [
      "C:\\Users\\WilliamHoltam\\Anaconda3\\lib\\site-packages\\ipykernel_launcher.py:67: RuntimeWarning: invalid value encountered in greater_equal\n"
     ]
    },
    {
     "name": "stdout",
     "output_type": "stream",
     "text": [
      "21 features have been droped.\n"
     ]
    }
   ],
   "source": [
    "class RemoveCorrelatedFeatures(BaseEstimator, TransformerMixin):\n",
    "\n",
    "    \"\"\"\n",
    "    A class that drops features if the pairwise correlation between features\n",
    "    is greater than the specified corr_threshold. If no corr_threshold is\n",
    "    specified then the corr_threshold is 0.9.\n",
    "\n",
    "    Parameters\n",
    "    ----------\n",
    "    method : {'pearson', 'kendall', 'spearman'}\n",
    "            * pearson : standard correlation coefficient\n",
    "            * kendall : Kendall Tau correlation coefficient\n",
    "            * spearman : Spearman rank correlation\n",
    "\n",
    "    test : the test dataset in pandas DataFrame form.\n",
    "\n",
    "    Authors\n",
    "    -------\n",
    "    William Holtam\n",
    "    \"\"\"\n",
    "\n",
    "    def __init__(\n",
    "        self,\n",
    "        method='pearson',\n",
    "        corr_threshold=0.99,\n",
    "        print_drop_feat=False\n",
    "    ):\n",
    "\n",
    "        \"\"\"\n",
    "        Description\n",
    "        -----------\n",
    "        Initialise the transformer object and sets the method,\n",
    "        corr_threshold and print_drop_featas instance variables.\n",
    "        \"\"\"\n",
    "\n",
    "        self.method = method\n",
    "        self.corr_threshold = corr_threshold\n",
    "        self.print_drop_feat = print_drop_feat\n",
    "\n",
    "    def fit(self, X, y=None):\n",
    "\n",
    "        \"\"\"\n",
    "        Fit creates a correlation matrix and itterates through it to\n",
    "        identify columns which are correlated to a greater extent than\n",
    "        the corr_threshold.\n",
    "\n",
    "        The column numbers of these columns are appended to the\n",
    "        \"drop_cols\" list. The \"drop_cols\" list is sorted and assigned\n",
    "        to the instance variable self.drops.\n",
    "        \"\"\"\n",
    "\n",
    "        # Creates Correlation Matrix\n",
    "        corr_matrix = X.corr()\n",
    "        iters = range(len(corr_matrix.columns) - 1)\n",
    "        drop_cols = []\n",
    "        count = 0\n",
    "\n",
    "        # Iterates through Correlation Matrix Table to find correlated columns\n",
    "        for i in iters:\n",
    "            for j in range(i):\n",
    "                item = corr_matrix.iloc[j:(j+1), (i+1):(i+2)]\n",
    "                col = item.columns\n",
    "                row = item.index\n",
    "                val = item.values\n",
    "\n",
    "                if abs(val) >= self.corr_threshold:\n",
    "\n",
    "                    # Prints the correlated feature set and the corr val\n",
    "                    if self.print_drop_feat is True:\n",
    "\n",
    "                        print(\n",
    "                            col.values[0],\n",
    "                            \"|\",\n",
    "                            row.values[0],\n",
    "                            \"|\",\n",
    "                            round(val[0][0], 2)\n",
    "                        )\n",
    "\n",
    "                    drop_cols.append(i)\n",
    "                    count += 1\n",
    "\n",
    "        print(str(count)+\" features have been droped.\")\n",
    "        self.drops = sorted(set(drop_cols))[::-1]\n",
    "\n",
    "        return self\n",
    "\n",
    "    def transform(self, X):\n",
    "\n",
    "        \"\"\"\n",
    "        Transform indexes the inputed dataframe X for the dropped columns and\n",
    "        drops them from the dataframe.\n",
    "        \"\"\"\n",
    "\n",
    "        # Drops the correlated columns\n",
    "        for i in self.drops:\n",
    "            col = X.iloc[:, (i+1):(i+2)].columns.values\n",
    "            X = X.drop(col, axis=1)\n",
    "\n",
    "        return X\n",
    "\n",
    "\n",
    "x = RemoveCorrelatedFeatures().fit_transform(df_train.iloc[0:100, 0:100])"
   ]
  },
  {
   "cell_type": "code",
   "execution_count": 95,
   "metadata": {},
   "outputs": [],
   "source": [
    "class DuplicateColumnRemover(BaseEstimator, TransformerMixin):\n",
    "\n",
    "    \"\"\"\n",
    "    Class\n",
    "    \"\"\"\n",
    "\n",
    "    def fit(self, X, y=None):\n",
    "        groups = X.columns.to_series().groupby(X.dtypes).groups\n",
    "        dups = []\n",
    "\n",
    "        for int64, float64 in groups.items():\n",
    "\n",
    "            columns = X[float64].columns\n",
    "            vs = X[float64]\n",
    "            columns_length = len(columns)\n",
    "\n",
    "            for i in range(columns_length):\n",
    "                ia = vs.iloc[:, i].values\n",
    "                for j in range(i+1, columns_length):\n",
    "                    ja = vs.iloc[:, j].values\n",
    "                    if array_equal(ia, ja):\n",
    "                        dups.append(columns[i])\n",
    "                        break\n",
    "\n",
    "        self.dups = dups\n",
    "        return self\n",
    "\n",
    "    def transform(self, X):\n",
    "        X = X.drop(self.dups, axis=1)\n",
    "        return X\n",
    "\n",
    "\n",
    "x = DuplicateColumnRemover().fit_transform(df_train.iloc[0:100, 0:100])"
   ]
  },
  {
   "cell_type": "markdown",
   "metadata": {},
   "source": [
    "With the log of the target the distribuiton looks more distribuite, more like a normal distribuition"
   ]
  },
  {
   "cell_type": "markdown",
   "metadata": {},
   "source": [
    "Here is an example of what a correlation plot looks like for only the first few columns. In this plot stronger correlations have brighter colours from blue (negative correlation) to red (positive correlation). The closer a plot element is to grey the closer the (spearman) correlation coefficient is to zero:"
   ]
  },
  {
   "cell_type": "code",
   "execution_count": 156,
   "metadata": {},
   "outputs": [
    {
     "data": {
      "text/plain": [
       "<matplotlib.axes._subplots.AxesSubplot at 0x1d238f460f0>"
      ]
     },
     "execution_count": 156,
     "metadata": {},
     "output_type": "execute_result"
    },
    {
     "data": {
      "image/png": "[encoded data removed]",
      "text/plain": [
       "<Figure size 792x648 with 2 Axes>"
      ]
     },
     "metadata": {
      "needs_background": "dark"
     },
     "output_type": "display_data"
    }
   ],
   "source": [
    "df_train_short = df_train.drop(columns=[\"target\"])\n",
    "df_train_short = df_train_short.iloc[:,:]\n",
    "corr = df_train_short.corr()\n",
    "\n",
    "# Generate a mask for the upper triangle\n",
    "mask = np.zeros_like(corr, dtype=np.bool)\n",
    "mask[np.triu_indices_from(mask)] = True\n",
    "\n",
    "# Set up the matplotlib figure\n",
    "f, ax = plt.subplots(figsize=(11, 9))\n",
    "\n",
    "# Generate a custom diverging colormap\n",
    "cmap = sns.diverging_palette(220, 10, as_cmap=True)\n",
    "\n",
    "# Draw the heatmap with the mask and correct aspect ratio\n",
    "sns.heatmap(corr, mask=mask, cmap=cmap, vmax=.3, center=0,\n",
    "            square=True, linewidths=.5, cbar_kws={\"shrink\": .5})"
   ]
  },
  {
   "cell_type": "code",
   "execution_count": 140,
   "metadata": {},
   "outputs": [],
   "source": [
    "# corr_train_target.sort_values(0).plot()\n",
    "# plt.xlabel(\"Features\")\n",
    "# plt.ylabel(\"Spearman's Rank\")\n",
    "# plt.title(\"Features vs Spearman's Rank\", color=\"w\")\n",
    "# plt.show()"
   ]
  },
  {
   "cell_type": "code",
   "execution_count": 142,
   "metadata": {},
   "outputs": [],
   "source": [
    "# ## Drop columns will all zero values\n",
    "# list_columns_train_drop=[]\n",
    "# for i in columns_train_sum[columns_train_sum['Sum of Row']==0].index:\n",
    "#     list_columns_train_drop.append(i)\n",
    "# df_train = df_train.drop(columns=list_columns_train_drop)\n",
    "# len(df_train.columns)"
   ]
  },
  {
   "cell_type": "code",
   "execution_count": 143,
   "metadata": {},
   "outputs": [
    {
     "data": {
      "text/html": [
       "<div>\n",
       "<style scoped>\n",
       "    .dataframe tbody tr th:only-of-type {\n",
       "        vertical-align: middle;\n",
       "    }\n",
       "\n",
       "    .dataframe tbody tr th {\n",
       "        vertical-align: top;\n",
       "    }\n",
       "\n",
       "    .dataframe thead th {\n",
       "        text-align: right;\n",
       "    }\n",
       "</style>\n",
       "<table border=\"1\" class=\"dataframe\">\n",
       "  <thead>\n",
       "    <tr style=\"text-align: right;\">\n",
       "      <th></th>\n",
       "      <th>0</th>\n",
       "    </tr>\n",
       "  </thead>\n",
       "  <tbody>\n",
       "    <tr>\n",
       "      <th>count</th>\n",
       "      <td>4735.000000</td>\n",
       "    </tr>\n",
       "    <tr>\n",
       "      <th>mean</th>\n",
       "      <td>-0.012092</td>\n",
       "    </tr>\n",
       "    <tr>\n",
       "      <th>std</th>\n",
       "      <td>0.030831</td>\n",
       "    </tr>\n",
       "    <tr>\n",
       "      <th>min</th>\n",
       "      <td>-0.116095</td>\n",
       "    </tr>\n",
       "    <tr>\n",
       "      <th>25%</th>\n",
       "      <td>-0.027745</td>\n",
       "    </tr>\n",
       "    <tr>\n",
       "      <th>50%</th>\n",
       "      <td>-0.008558</td>\n",
       "    </tr>\n",
       "    <tr>\n",
       "      <th>75%</th>\n",
       "      <td>0.008232</td>\n",
       "    </tr>\n",
       "    <tr>\n",
       "      <th>max</th>\n",
       "      <td>0.107678</td>\n",
       "    </tr>\n",
       "  </tbody>\n",
       "</table>\n",
       "</div>"
      ],
      "text/plain": [
       "                 0\n",
       "count  4735.000000\n",
       "mean     -0.012092\n",
       "std       0.030831\n",
       "min      -0.116095\n",
       "25%      -0.027745\n",
       "50%      -0.008558\n",
       "75%       0.008232\n",
       "max       0.107678"
      ]
     },
     "execution_count": 143,
     "metadata": {},
     "output_type": "execute_result"
    }
   ],
   "source": [
    "## Verify the correlation between the target and the variables\n",
    "corr_train_target_values = []\n",
    "corr_train_target_column = []\n",
    "for i in df_train.columns:\n",
    "    if i in ['ID','target','target_log']:\n",
    "        None\n",
    "    else:\n",
    "        corr = df_train[['target',i]].corr(method='spearman')\n",
    "        corr_train_target_values.append(corr.target[1])\n",
    "        corr_train_target_column.append(i)\n",
    "\n",
    "corr_train_target = pd.DataFrame(corr_train_target_values,index=corr_train_target_column)\n",
    "corr_train_target.describe()"
   ]
  },
  {
   "cell_type": "code",
   "execution_count": 144,
   "metadata": {},
   "outputs": [
    {
     "data": {
      "image/png": "[encoded data removed]",
      "text/plain": [
       "<Figure size 432x288 with 1 Axes>"
      ]
     },
     "metadata": {
      "needs_background": "dark"
     },
     "output_type": "display_data"
    }
   ],
   "source": [
    "corr_train_target.sort_values(0).plot()\n",
    "plt.xlabel(\"Features\")\n",
    "plt.ylabel(\"Spearman's Rank\")\n",
    "plt.title(\"Features vs Spearman's Rank\", color=\"w\")\n",
    "plt.show()"
   ]
  },
  {
   "cell_type": "code",
   "execution_count": 163,
   "metadata": {},
   "outputs": [
    {
     "data": {
      "text/html": [
       "<div>\n",
       "<style scoped>\n",
       "    .dataframe tbody tr th:only-of-type {\n",
       "        vertical-align: middle;\n",
       "    }\n",
       "\n",
       "    .dataframe tbody tr th {\n",
       "        vertical-align: top;\n",
       "    }\n",
       "\n",
       "    .dataframe thead th {\n",
       "        text-align: right;\n",
       "    }\n",
       "</style>\n",
       "<table border=\"1\" class=\"dataframe\">\n",
       "  <thead>\n",
       "    <tr style=\"text-align: right;\">\n",
       "      <th></th>\n",
       "      <th>0</th>\n",
       "    </tr>\n",
       "  </thead>\n",
       "  <tbody>\n",
       "    <tr>\n",
       "      <th>count</th>\n",
       "      <td>4735.000000</td>\n",
       "    </tr>\n",
       "    <tr>\n",
       "      <th>mean</th>\n",
       "      <td>0.023465</td>\n",
       "    </tr>\n",
       "    <tr>\n",
       "      <th>std</th>\n",
       "      <td>0.053689</td>\n",
       "    </tr>\n",
       "    <tr>\n",
       "      <th>min</th>\n",
       "      <td>-0.051813</td>\n",
       "    </tr>\n",
       "    <tr>\n",
       "      <th>25%</th>\n",
       "      <td>-0.007194</td>\n",
       "    </tr>\n",
       "    <tr>\n",
       "      <th>50%</th>\n",
       "      <td>0.006248</td>\n",
       "    </tr>\n",
       "    <tr>\n",
       "      <th>75%</th>\n",
       "      <td>0.028457</td>\n",
       "    </tr>\n",
       "    <tr>\n",
       "      <th>max</th>\n",
       "      <td>0.273379</td>\n",
       "    </tr>\n",
       "  </tbody>\n",
       "</table>\n",
       "</div>"
      ],
      "text/plain": [
       "                 0\n",
       "count  4735.000000\n",
       "mean      0.023465\n",
       "std       0.053689\n",
       "min      -0.051813\n",
       "25%      -0.007194\n",
       "50%       0.006248\n",
       "75%       0.028457\n",
       "max       0.273379"
      ]
     },
     "execution_count": 163,
     "metadata": {},
     "output_type": "execute_result"
    }
   ],
   "source": [
    "## Verify the correlation between the target and the variables\n",
    "corr_train_target_values = []\n",
    "corr_train_target_column = []\n",
    "for i in df_train.columns:\n",
    "    if i in ['ID','target','target_log']:\n",
    "        None\n",
    "    else:\n",
    "        corr = df_train[['target',i]].corr(method='pearson')\n",
    "        corr_train_target_values.append(corr.target[1])\n",
    "        corr_train_target_column.append(i)\n",
    "\n",
    "corr_train_target = pd.DataFrame(corr_train_target_values,index=corr_train_target_column)\n",
    "corr_train_target.describe()"
   ]
  },
  {
   "cell_type": "code",
   "execution_count": 164,
   "metadata": {},
   "outputs": [
    {
     "data": {
      "image/png": "[encoded data removed]",
      "text/plain": [
       "<Figure size 432x288 with 1 Axes>"
      ]
     },
     "metadata": {
      "needs_background": "dark"
     },
     "output_type": "display_data"
    }
   ],
   "source": [
    "corr_train_target.sort_values(0).plot()\n",
    "plt.xlabel(\"Feature\")\n",
    "plt.ylabel(\"PCC\")\n",
    "plt.title(\"Feature vs PCC\", color=\"w\")\n",
    "plt.show()"
   ]
  },
  {
   "cell_type": "markdown",
   "metadata": {},
   "source": [
    "There is a low correlation of the variables with the target. Let's see how's the distribuiton off eah variable"
   ]
  },
  {
   "cell_type": "code",
   "execution_count": 10,
   "metadata": {},
   "outputs": [
    {
     "data": {
      "image/png": "[encoded data removed]",
      "text/plain": [
       "<Figure size 432x288 with 1 Axes>"
      ]
     },
     "metadata": {
      "needs_background": "dark"
     },
     "output_type": "display_data"
    },
    {
     "data": {
      "image/png": "[encoded data removed]",
      "text/plain": [
       "<Figure size 432x288 with 1 Axes>"
      ]
     },
     "metadata": {
      "needs_background": "dark"
     },
     "output_type": "display_data"
    }
   ],
   "source": [
    "df_train['target_log'] = np.log(df_train.target)\n",
    "X = df_train.drop(columns=['target','target_log','ID'])\n",
    "variable_mean = X.mean()\n",
    "variable_std = X.std()\n",
    "variable_name = X.columns\n",
    "high_indices = np.argsort(variable_mean)[::-1][:50]\n",
    "low_indices = np.argsort(variable_mean)[:50]\n",
    "plt.bar(range(len(variable_mean[high_indices])),variable_mean[high_indices],yerr=variable_std[high_indices])\n",
    "#plt.xticks(range(len(variable_mean[high_indices])),variable_name[high_indices],rotation='vertical')\n",
    "plt.show()\n",
    "plt.bar(range(len(variable_mean[low_indices])),variable_mean[low_indices],yerr=variable_std[low_indices])\n",
    "#plt.xticks(range(len(variable_mean[low_indices])),variable_name[low_indices],rotation='vertical')\n",
    "plt.show()"
   ]
  },
  {
   "cell_type": "code",
   "execution_count": 148,
   "metadata": {},
   "outputs": [
    {
     "name": "stderr",
     "output_type": "stream",
     "text": [
      "C:\\Users\\WilliamHoltam\\Anaconda3\\lib\\site-packages\\ipykernel_launcher.py:7: DataConversionWarning: Data with input dtype int64, float64 were all converted to float64 by the scale function.\n",
      "  import sys\n"
     ]
    },
    {
     "name": "stdout",
     "output_type": "stream",
     "text": [
      "100\n",
      "0.2993710474348697\n",
      "200\n",
      "0.41791994873217836\n",
      "300\n",
      "0.5095929647326376\n",
      "400\n",
      "0.5858403822213976\n",
      "500\n",
      "0.6459103447067306\n",
      "600\n",
      "0.7003343556863603\n",
      "700\n",
      "0.7465079073281333\n",
      "800\n",
      "0.7859043687194954\n",
      "900\n",
      "0.8196230656424027\n"
     ]
    },
    {
     "data": {
      "image/png": "[encoded data removed]",
      "text/plain": [
       "<Figure size 432x288 with 1 Axes>"
      ]
     },
     "metadata": {
      "needs_background": "dark"
     },
     "output_type": "display_data"
    }
   ],
   "source": [
    "# Implementing a PCA to reduze the amount of variables and standardize data\n",
    "\n",
    "from sklearn import preprocessing\n",
    "from sklearn.decomposition import PCA\n",
    "\n",
    "X = df_train.drop(columns=['target','ID','target_log'])\n",
    "X = preprocessing.scale(X)\n",
    "list_n_comp=[]\n",
    "list_var_ratio=[]\n",
    "n_comp = 100\n",
    "max_list_var_ratio = 0.0\n",
    "while max_list_var_ratio<0.8: #n_comp <= 1000:\n",
    "    print(n_comp)\n",
    "    pca = PCA(n_components=n_comp)\n",
    "    pca.fit(X)\n",
    "    list_n_comp.append(n_comp)\n",
    "    list_var_ratio.append(sum(pca.explained_variance_ratio_))\n",
    "    max_list_var_ratio = max(list_var_ratio)\n",
    "    print(max_list_var_ratio)\n",
    "    n_comp = n_comp + 100\n",
    "#list_n_comp,list_var_ratio\n",
    "\n",
    "plt.plot(list_n_comp, list_var_ratio)\n",
    "plt.xlabel('Number of components')\n",
    "plt.ylabel('Variance Ratio')\n",
    "plt.title('PCA')\n",
    "plt.ylim([0,1])\n",
    "plt.axhline(0.8,color='r')\n",
    "plt.show()"
   ]
  },
  {
   "cell_type": "code",
   "execution_count": 13,
   "metadata": {},
   "outputs": [
    {
     "name": "stderr",
     "output_type": "stream",
     "text": [
      "C:\\Users\\WilliamHoltam\\Anaconda3\\lib\\site-packages\\ipykernel_launcher.py:6: DataConversionWarning: Data with input dtype int64, float64 were all converted to float64 by the scale function.\n",
      "  \n"
     ]
    }
   ],
   "source": [
    "# PCA with 80% explained ratio is with 900 components\n",
    "from sklearn import preprocessing\n",
    "from sklearn.decomposition import PCA\n",
    "\n",
    "X = df_train.drop(columns=['target','ID','target_log'])\n",
    "X = pd.DataFrame(preprocessing.scale(X),columns = X.columns)\n",
    "pca = PCA(n_components=900)\n",
    "X_pca = pd.DataFrame(pca.fit_transform(X))\n",
    "\n",
    "df_train_pca = df_train.loc[:,['ID','target','target_log']]\n",
    "df_train_pca[X_pca.columns.values]= X_pca\n",
    "\n",
    "X = df_test.drop(columns=['ID'])\n",
    "X = pd.DataFrame(preprocessing.scale(X),columns = X.columns)\n",
    "pca = PCA(n_components=900)\n",
    "X_pca = pd.DataFrame(pca.fit_transform(X))\n",
    "\n",
    "df_test_pca = pd.DataFrame(df_test['ID'],columns=['ID'])\n",
    "df_test_pca[X_pca.columns.values] = X_pca"
   ]
  },
  {
   "cell_type": "code",
   "execution_count": 14,
   "metadata": {},
   "outputs": [
    {
     "data": {
      "text/html": [
       "<div>\n",
       "<style scoped>\n",
       "    .dataframe tbody tr th:only-of-type {\n",
       "        vertical-align: middle;\n",
       "    }\n",
       "\n",
       "    .dataframe tbody tr th {\n",
       "        vertical-align: top;\n",
       "    }\n",
       "\n",
       "    .dataframe thead th {\n",
       "        text-align: right;\n",
       "    }\n",
       "</style>\n",
       "<table border=\"1\" class=\"dataframe\">\n",
       "  <thead>\n",
       "    <tr style=\"text-align: right;\">\n",
       "      <th></th>\n",
       "      <th>ID</th>\n",
       "      <th>0</th>\n",
       "      <th>1</th>\n",
       "      <th>2</th>\n",
       "      <th>3</th>\n",
       "      <th>4</th>\n",
       "      <th>5</th>\n",
       "      <th>6</th>\n",
       "      <th>7</th>\n",
       "      <th>8</th>\n",
       "      <th>...</th>\n",
       "      <th>890</th>\n",
       "      <th>891</th>\n",
       "      <th>892</th>\n",
       "      <th>893</th>\n",
       "      <th>894</th>\n",
       "      <th>895</th>\n",
       "      <th>896</th>\n",
       "      <th>897</th>\n",
       "      <th>898</th>\n",
       "      <th>899</th>\n",
       "    </tr>\n",
       "  </thead>\n",
       "  <tbody>\n",
       "    <tr>\n",
       "      <th>0</th>\n",
       "      <td>000137c73</td>\n",
       "      <td>3.549097</td>\n",
       "      <td>-5.999430</td>\n",
       "      <td>6.760546</td>\n",
       "      <td>-3.861732</td>\n",
       "      <td>3.849445</td>\n",
       "      <td>-0.103234</td>\n",
       "      <td>0.525194</td>\n",
       "      <td>1.850171</td>\n",
       "      <td>1.964700</td>\n",
       "      <td>...</td>\n",
       "      <td>1.402093</td>\n",
       "      <td>4.560413</td>\n",
       "      <td>-5.920401</td>\n",
       "      <td>4.315662</td>\n",
       "      <td>3.803764</td>\n",
       "      <td>5.355811</td>\n",
       "      <td>9.457021</td>\n",
       "      <td>-3.841476</td>\n",
       "      <td>4.855990</td>\n",
       "      <td>0.899153</td>\n",
       "    </tr>\n",
       "    <tr>\n",
       "      <th>1</th>\n",
       "      <td>00021489f</td>\n",
       "      <td>-3.002049</td>\n",
       "      <td>0.450138</td>\n",
       "      <td>0.225339</td>\n",
       "      <td>0.063281</td>\n",
       "      <td>-0.425153</td>\n",
       "      <td>0.115196</td>\n",
       "      <td>0.232534</td>\n",
       "      <td>0.262705</td>\n",
       "      <td>0.325272</td>\n",
       "      <td>...</td>\n",
       "      <td>-0.078115</td>\n",
       "      <td>-0.199460</td>\n",
       "      <td>-0.097512</td>\n",
       "      <td>0.053813</td>\n",
       "      <td>-0.231464</td>\n",
       "      <td>-0.020244</td>\n",
       "      <td>-0.179826</td>\n",
       "      <td>0.023610</td>\n",
       "      <td>-0.114909</td>\n",
       "      <td>-0.265857</td>\n",
       "    </tr>\n",
       "    <tr>\n",
       "      <th>2</th>\n",
       "      <td>0004d7953</td>\n",
       "      <td>-0.817816</td>\n",
       "      <td>0.862562</td>\n",
       "      <td>0.423033</td>\n",
       "      <td>0.507887</td>\n",
       "      <td>2.344211</td>\n",
       "      <td>0.060266</td>\n",
       "      <td>0.059508</td>\n",
       "      <td>-0.260758</td>\n",
       "      <td>-0.469158</td>\n",
       "      <td>...</td>\n",
       "      <td>0.067713</td>\n",
       "      <td>-0.468586</td>\n",
       "      <td>-0.386119</td>\n",
       "      <td>0.297543</td>\n",
       "      <td>0.057460</td>\n",
       "      <td>-0.469009</td>\n",
       "      <td>-0.112279</td>\n",
       "      <td>-0.032494</td>\n",
       "      <td>-0.641728</td>\n",
       "      <td>-0.015851</td>\n",
       "    </tr>\n",
       "    <tr>\n",
       "      <th>3</th>\n",
       "      <td>00056a333</td>\n",
       "      <td>6.918031</td>\n",
       "      <td>3.314991</td>\n",
       "      <td>2.182499</td>\n",
       "      <td>-2.145515</td>\n",
       "      <td>4.519310</td>\n",
       "      <td>0.620639</td>\n",
       "      <td>-0.382959</td>\n",
       "      <td>0.618229</td>\n",
       "      <td>-0.382627</td>\n",
       "      <td>...</td>\n",
       "      <td>0.142281</td>\n",
       "      <td>0.920419</td>\n",
       "      <td>-0.629845</td>\n",
       "      <td>1.751943</td>\n",
       "      <td>-0.376071</td>\n",
       "      <td>-0.190376</td>\n",
       "      <td>-0.075540</td>\n",
       "      <td>-0.441666</td>\n",
       "      <td>0.374101</td>\n",
       "      <td>-0.703239</td>\n",
       "    </tr>\n",
       "    <tr>\n",
       "      <th>4</th>\n",
       "      <td>00056d8eb</td>\n",
       "      <td>-2.988230</td>\n",
       "      <td>0.128151</td>\n",
       "      <td>0.071049</td>\n",
       "      <td>-0.034925</td>\n",
       "      <td>-0.845434</td>\n",
       "      <td>-0.031931</td>\n",
       "      <td>-0.020809</td>\n",
       "      <td>-0.154001</td>\n",
       "      <td>0.140849</td>\n",
       "      <td>...</td>\n",
       "      <td>-1.704078</td>\n",
       "      <td>0.591648</td>\n",
       "      <td>-1.171941</td>\n",
       "      <td>0.647832</td>\n",
       "      <td>-0.292748</td>\n",
       "      <td>-0.618417</td>\n",
       "      <td>-0.139675</td>\n",
       "      <td>1.106293</td>\n",
       "      <td>0.434949</td>\n",
       "      <td>0.830297</td>\n",
       "    </tr>\n",
       "  </tbody>\n",
       "</table>\n",
       "<p>5 rows × 901 columns</p>\n",
       "</div>"
      ],
      "text/plain": [
       "          ID         0         1         2         3         4         5  \\\n",
       "0  000137c73  3.549097 -5.999430  6.760546 -3.861732  3.849445 -0.103234   \n",
       "1  00021489f -3.002049  0.450138  0.225339  0.063281 -0.425153  0.115196   \n",
       "2  0004d7953 -0.817816  0.862562  0.423033  0.507887  2.344211  0.060266   \n",
       "3  00056a333  6.918031  3.314991  2.182499 -2.145515  4.519310  0.620639   \n",
       "4  00056d8eb -2.988230  0.128151  0.071049 -0.034925 -0.845434 -0.031931   \n",
       "\n",
       "          6         7         8    ...          890       891       892  \\\n",
       "0  0.525194  1.850171  1.964700    ...     1.402093  4.560413 -5.920401   \n",
       "1  0.232534  0.262705  0.325272    ...    -0.078115 -0.199460 -0.097512   \n",
       "2  0.059508 -0.260758 -0.469158    ...     0.067713 -0.468586 -0.386119   \n",
       "3 -0.382959  0.618229 -0.382627    ...     0.142281  0.920419 -0.629845   \n",
       "4 -0.020809 -0.154001  0.140849    ...    -1.704078  0.591648 -1.171941   \n",
       "\n",
       "        893       894       895       896       897       898       899  \n",
       "0  4.315662  3.803764  5.355811  9.457021 -3.841476  4.855990  0.899153  \n",
       "1  0.053813 -0.231464 -0.020244 -0.179826  0.023610 -0.114909 -0.265857  \n",
       "2  0.297543  0.057460 -0.469009 -0.112279 -0.032494 -0.641728 -0.015851  \n",
       "3  1.751943 -0.376071 -0.190376 -0.075540 -0.441666  0.374101 -0.703239  \n",
       "4  0.647832 -0.292748 -0.618417 -0.139675  1.106293  0.434949  0.830297  \n",
       "\n",
       "[5 rows x 901 columns]"
      ]
     },
     "execution_count": 14,
     "metadata": {},
     "output_type": "execute_result"
    }
   ],
   "source": [
    "df_test_pca.head()"
   ]
  },
  {
   "cell_type": "code",
   "execution_count": 15,
   "metadata": {},
   "outputs": [
    {
     "data": {
      "text/plain": [
       "(49342, 900)"
      ]
     },
     "execution_count": 15,
     "metadata": {},
     "output_type": "execute_result"
    }
   ],
   "source": [
    "df_test_pca[X_pca.columns.values].shape"
   ]
  },
  {
   "cell_type": "markdown",
   "metadata": {},
   "source": [
    "There a big difference between each variable in terms off the mean and std. Best to standardize the data and reduce the number of variables for predictions"
   ]
  },
  {
   "cell_type": "code",
   "execution_count": 16,
   "metadata": {},
   "outputs": [],
   "source": [
    "from sklearn import svm"
   ]
  },
  {
   "cell_type": "code",
   "execution_count": 20,
   "metadata": {},
   "outputs": [
    {
     "name": "stdout",
     "output_type": "stream",
     "text": [
      "variance explained by the first 2 components: 1.0%\n",
      "variance explained by the last 2 components: 0.0%\n"
     ]
    }
   ],
   "source": [
    "##### from sklearn.decomposition import PCA\n",
    "from sklearn.preprocessing import scale\n",
    "from pandas.tools.plotting import scatter_matrix\n",
    "\n",
    "dim_reduction = PCA()\n",
    "Xc = dim_reduction.fit_transform(scale(X))\n",
    "\n",
    "print('variance explained by the first 2 components: %0.1f%%' % (\n",
    "    sum(dim_reduction.explained_variance_ratio_[:2]*100)\n",
    "))\n",
    "\n",
    "print('variance explained by the last 2 components: %0.1f%%' % (\n",
    "    sum(dim_reduction.explained_variance_ratio_[-2:]*100)\n",
    "))"
   ]
  },
  {
   "cell_type": "code",
   "execution_count": 22,
   "metadata": {},
   "outputs": [
    {
     "data": {
      "image/png": "[encoded data removed]",
      "text/plain": [
       "<Figure size 432x288 with 1 Axes>"
      ]
     },
     "metadata": {
      "needs_background": "dark"
     },
     "output_type": "display_data"
    },
    {
     "data": {
      "image/png": "[encoded data removed]",
      "text/plain": [
       "<Figure size 432x288 with 1 Axes>"
      ]
     },
     "metadata": {
      "needs_background": "dark"
     },
     "output_type": "display_data"
    }
   ],
   "source": [
    "df = pd.DataFrame(Xc, columns=['comp_'+str(j+1) for j in range(4991)])\n",
    "first_two = df.plot(kind='scatter', x='comp_1', y='comp_2', c='DarkGray', s=50)\n",
    "last_two = df.plot(kind='scatter', x='comp_9', y='comp_10', c='DarkGray', s=50)"
   ]
  },
  {
   "cell_type": "code",
   "execution_count": null,
   "metadata": {},
   "outputs": [],
   "source": [
    "x = plt.plot(Xc)\n",
    "plt.show(x)"
   ]
  },
  {
   "cell_type": "code",
   "execution_count": null,
   "metadata": {},
   "outputs": [],
   "source": [
    "outlying = (Xc[:,-1] < -40) | (Xc[:,-2] < -0.1)\n",
    "# print(outlying)\n",
    "# print(Xc[:,-1])"
   ]
  },
  {
   "cell_type": "code",
   "execution_count": null,
   "metadata": {},
   "outputs": [],
   "source": [
    "from sklearn.cluster import DBSCAN\n",
    "DB = DBSCAN(eps=2.5, min_samples=25)\n",
    "DB.fit(Xc)\n",
    "from collections import Counter\n",
    "print(Counter(DB.labels_),'n')\n",
    "print(df[DB.labels_==-1])\n",
    "Counter({0: 414, -1: 28})"
   ]
  },
  {
   "cell_type": "code",
   "execution_count": null,
   "metadata": {},
   "outputs": [],
   "source": []
  }
 ],
 "metadata": {
  "kernelspec": {
   "display_name": "Python 3",
   "language": "python",
   "name": "python3"
  },
  "language_info": {
   "codemirror_mode": {
    "name": "ipython",
    "version": 3
   },
   "file_extension": ".py",
   "mimetype": "text/x-python",
   "name": "python",
   "nbconvert_exporter": "python",
   "pygments_lexer": "ipython3",
   "version": "3.6.6"
  }
 },
 "nbformat": 4,
 "nbformat_minor": 2
}
